{
 "cells": [
  {
   "cell_type": "code",
   "execution_count": 51,
   "metadata": {},
   "outputs": [],
   "source": [
    "from bs4 import BeautifulSoup\n",
    "import requests\n",
    "from Bio import SeqIO\n",
    "import re"
   ]
  },
  {
   "cell_type": "code",
   "execution_count": 42,
   "metadata": {},
   "outputs": [
    {
     "data": {
      "text/plain": [
       "['A2Z669', 'B5ZC00', 'P07204_TRBM_HUMAN', 'P20840_SAG1_YEAST']"
      ]
     },
     "execution_count": 42,
     "metadata": {},
     "output_type": "execute_result"
    }
   ],
   "source": [
    "id_list = []\n",
    "with open('uniprot.txt','r') as file:\n",
    "    for ids in file:\n",
    "        if '\\n' in ids:\n",
    "            id_to_append = ids[:-1]\n",
    "        else:\n",
    "            id_to_append = ids\n",
    "        id_list.append(id_to_append)\n",
    "id_list"
   ]
  },
  {
   "cell_type": "code",
   "execution_count": 40,
   "metadata": {},
   "outputs": [
    {
     "name": "stdout",
     "output_type": "stream",
     "text": [
      "Making request\n",
      "Building soup\n",
      "Making string\n",
      "Making request\n",
      "Building soup\n",
      "Making string\n",
      "Making request\n",
      "Building soup\n",
      "Making string\n",
      "Making request\n",
      "Building soup\n",
      "Making string\n"
     ]
    }
   ],
   "source": [
    "raw_fasta = ''\n",
    "for did in id_list:\n",
    "    url = f'https://www.uniprot.org/uniprot/{did}.fasta'\n",
    "    print('Making request')\n",
    "    r = requests.get(url)\n",
    "    print('Building soup')\n",
    "    soup = BeautifulSoup(r.text,'html')\n",
    "    soup_string = soup.text\n",
    "    print('Making string')\n",
    "    raw_fasta = str(raw_fasta+soup_string)\n"
   ]
  },
  {
   "cell_type": "code",
   "execution_count": 76,
   "metadata": {},
   "outputs": [
    {
     "name": "stdout",
     "output_type": "stream",
     "text": [
      "activated\n",
      "activated\n",
      "activated\n",
      "\n",
      "B5ZC00\n",
      "85, 118, 142, 306, 395\n",
      "P07204_TRBM_HUMAN\n",
      "47, 115, 116, 382, 409\n",
      "P20840_SAG1_YEAST\n",
      "79, 109, 135, 248, 306, 348, 364, 402, 485, 501, 614\n"
     ]
    }
   ],
   "source": [
    "result = ''\n",
    "rcrd_no = 0\n",
    "positions = []\n",
    "with open('seq_file.fasta', 'w') as text_file:            \n",
    "        text_file.write(raw_fasta)\n",
    "for record in SeqIO.parse('seq_file.fasta', 'fasta'):\n",
    "    positions = []\n",
    "    for m in re.finditer((r'(?=(N[^P][ST][^P]))'), str(record.seq)):\n",
    "        positions.append(m.start()+1)\n",
    "    if len(positions)>0:\n",
    "        result = str(result+'\\n'+id_list[rcrd_no]+'\\n'+str(positions).replace('[','').replace(']',''))\n",
    "    rcrd_no = rcrd_no+1\n",
    "with open('positions_result.txt','w') as txt_file:\n",
    "        txt_file.write(result)\n",
    "print(result)"
   ]
  }
 ],
 "metadata": {
  "interpreter": {
   "hash": "1ac7214b8e98b48334c1b2bf80a9fceabea884fbe5868f7a48966353fdc0f4e9"
  },
  "kernelspec": {
   "display_name": "Python 3.10.2 64-bit ('bio+scrap': conda)",
   "language": "python",
   "name": "python3"
  },
  "language_info": {
   "codemirror_mode": {
    "name": "ipython",
    "version": 3
   },
   "file_extension": ".py",
   "mimetype": "text/x-python",
   "name": "python",
   "nbconvert_exporter": "python",
   "pygments_lexer": "ipython3",
   "version": "3.10.2"
  },
  "orig_nbformat": 4
 },
 "nbformat": 4,
 "nbformat_minor": 2
}
